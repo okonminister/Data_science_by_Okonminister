{
 "cells": [
  {
   "cell_type": "markdown",
   "id": "645cee20-f66b-40d8-9a85-e40599eb8d4d",
   "metadata": {},
   "source": [
    "# Output statement\n",
    "Output statement works with the print function in python"
   ]
  },
  {
   "cell_type": "code",
   "execution_count": 2,
   "id": "31a856a3-2664-46cb-87f3-658fec3c9474",
   "metadata": {},
   "outputs": [
    {
     "name": "stdout",
     "output_type": "stream",
     "text": [
      "152\n",
      "50.666666666666664\n"
     ]
    }
   ],
   "source": [
    "number1 = 12\n",
    "number2 = 90\n",
    "number3 = 50\n",
    "sum_of_numbers = number1+number2+number3\n",
    "avg = sum_of_numbers/3\n",
    "print(sum_of_numbers)\n",
    "print(avg)"
   ]
  },
  {
   "cell_type": "code",
   "execution_count": 6,
   "id": "02585f1e-0a4e-470a-8cbe-d3bf42956205",
   "metadata": {},
   "outputs": [
    {
     "name": "stdout",
     "output_type": "stream",
     "text": [
      "5\n",
      "5.0\n"
     ]
    }
   ],
   "source": [
    "# 400\n",
    "# 6 minutes\n",
    "# 40 seconds\n",
    "total_seconds = 300\n",
    "mins= total_seconds//60\n",
    "seconds = total_seconds/60\n",
    "print(mins)\n",
    "print(seconds)"
   ]
  },
  {
   "cell_type": "code",
   "execution_count": 7,
   "id": "729dd63c-b466-4c4c-be35-677985626e92",
   "metadata": {},
   "outputs": [
    {
     "data": {
      "text/plain": [
       "355"
      ]
     },
     "execution_count": 7,
     "metadata": {},
     "output_type": "execute_result"
    }
   ],
   "source": [
    "total_seconds-mins+60"
   ]
  },
  {
   "cell_type": "code",
   "execution_count": 8,
   "id": "b447ea69-33cb-43e1-9d8b-aae587ffc237",
   "metadata": {},
   "outputs": [],
   "source": [
    "# 6 minutes and 40 seconds"
   ]
  },
  {
   "cell_type": "code",
   "execution_count": 6,
   "id": "3d28e236-eaf0-4d8b-bcf4-babcceb687d3",
   "metadata": {},
   "outputs": [
    {
     "name": "stdout",
     "output_type": "stream",
     "text": [
      "5\n",
      "5.0\n"
     ]
    }
   ],
   "source": [
    "# 400\n",
    "# 6 minutes\n",
    "# 40 seconds\n",
    "total_seconds = 300\n",
    "mins= total_seconds//60\n",
    "seconds = total_seconds/60\n",
    "print(mins)\n",
    "print(seconds)"
   ]
  },
  {
   "cell_type": "markdown",
   "id": "4737a2b7-4b02-43d3-8fe1-d804babc3a54",
   "metadata": {},
   "source": [
    "# Control structures"
   ]
  },
  {
   "cell_type": "code",
   "execution_count": 1,
   "id": "ab6b0492-fbef-4bec-ba99-0b52567d4393",
   "metadata": {},
   "outputs": [
    {
     "name": "stdin",
     "output_type": "stream",
     "text": [
      "Enter age:  21\n"
     ]
    },
    {
     "name": "stdout",
     "output_type": "stream",
     "text": [
      "Adult\n"
     ]
    }
   ],
   "source": [
    "age = int(input(\"Enter age: \"))\n",
    "if age>=18:\n",
    "    print(\"Adult\")\n",
    "    "
   ]
  },
  {
   "cell_type": "code",
   "execution_count": 2,
   "id": "28fe355d-2f94-49f3-b051-5eefc5846f90",
   "metadata": {},
   "outputs": [
    {
     "name": "stdin",
     "output_type": "stream",
     "text": [
      "Enter age:  18\n"
     ]
    },
    {
     "name": "stdout",
     "output_type": "stream",
     "text": [
      "Adult\n"
     ]
    }
   ],
   "source": [
    "age = int(input(\"Enter age: \"))\n",
    "if age>=18:\n",
    "    print(\"Adult\")\n",
    "else:\n",
    "    print(\"Teen\")\n",
    "    "
   ]
  },
  {
   "cell_type": "code",
   "execution_count": 3,
   "id": "a79a883a-91f5-4dbc-aef8-98c4e61eaa68",
   "metadata": {},
   "outputs": [
    {
     "name": "stdout",
     "output_type": "stream",
     "text": [
      "Elderly\n"
     ]
    }
   ],
   "source": [
    "age = 67\n",
    "if age<18:\n",
    "    print(\"Teenager\")\n",
    "elif age<60:\n",
    "    print(\"Adult\")\n",
    "else:\n",
    "    print(\"Elderly\")"
   ]
  },
  {
   "cell_type": "code",
   "execution_count": 4,
   "id": "4f1cf6d2-99be-4d3b-88b6-a5e74b7448d1",
   "metadata": {},
   "outputs": [
    {
     "name": "stdin",
     "output_type": "stream",
     "text": [
      "Enter a score:  70\n"
     ]
    },
    {
     "name": "stdout",
     "output_type": "stream",
     "text": [
      "A\n"
     ]
    }
   ],
   "source": [
    "score = int(input(\"Enter a score: \"))\n",
    "if score >=70:\n",
    "    print(\"A\")\n",
    "elif score>=60:\n",
    "    print(\"B\")\n",
    "elif score>=50:\n",
    "    print(\"C\")\n",
    "elif score>=45:\n",
    "    print(\"D\")\n",
    "elif score>=40:\n",
    "    print(\"E\")\n",
    "else:\n",
    "    print(\"F\")"
   ]
  },
  {
   "cell_type": "code",
   "execution_count": 5,
   "id": "aaf52444-d95e-4980-8af3-444528da1201",
   "metadata": {},
   "outputs": [
    {
     "name": "stdin",
     "output_type": "stream",
     "text": [
      "Enter a score:  -24\n"
     ]
    },
    {
     "name": "stdout",
     "output_type": "stream",
     "text": [
      "F\n"
     ]
    }
   ],
   "source": [
    "score = int(input(\"Enter a score: \"))\n",
    "if score >=100:\n",
    "    print(\"Invalid Entry\")\n",
    "elif score>=70:\n",
    "    print(\"A\")\n",
    "elif score>=60:\n",
    "    print(\"B\")\n",
    "elif score>=50:\n",
    "    print(\"C\")\n",
    "elif score>=45:\n",
    "    print(\"D\")\n",
    "elif score>=40:\n",
    "    print(\"E\")\n",
    "else:\n",
    "    print(\"F\")"
   ]
  },
  {
   "cell_type": "code",
   "execution_count": 6,
   "id": "7bef08d7-e198-4f34-bfce-d2f99da847ee",
   "metadata": {},
   "outputs": [
    {
     "name": "stdout",
     "output_type": "stream",
     "text": [
      "Even\n"
     ]
    }
   ],
   "source": [
    "number = 34\n",
    "if number % 2==0:\n",
    "    print(\"Even\")\n",
    "else:\n",
    "    print(\"Odd\")"
   ]
  },
  {
   "cell_type": "code",
   "execution_count": 10,
   "id": "4ec785b4-34f2-455b-ae47-e279b5565225",
   "metadata": {},
   "outputs": [
    {
     "name": "stdin",
     "output_type": "stream",
     "text": [
      "Enter a number:  20\n"
     ]
    },
    {
     "name": "stdout",
     "output_type": "stream",
     "text": [
      "Buzz\n"
     ]
    }
   ],
   "source": [
    "number = int(input(\"Enter a number: \")) \n",
    "if number % 3==0:\n",
    "    print(\"Fizz\")\n",
    "elif number % 5 ==0:\n",
    "    print(\"Buzz\")\n",
    "if number % 15==0:\n",
    "    print(\"FizzBuzz\")\n",
    "    "
   ]
  },
  {
   "cell_type": "code",
   "execution_count": null,
   "id": "451513b1-1dba-4b32-97ba-8f2dc4b136e1",
   "metadata": {},
   "outputs": [],
   "source": [
    "number = int(input(\"Enter a number: \"))\n",
    "if number % 3==0:\n"
   ]
  },
  {
   "cell_type": "code",
   "execution_count": null,
   "id": "cde424ed-9d69-4b6a-bca5-34d31f438486",
   "metadata": {},
   "outputs": [],
   "source": [
    "new_password = input(\"Enter a password: \")\n",
    "length_of_password = len(new_password)\n",
    "contains_special_character = not new_password.isalnum()\n"
   ]
  }
 ],
 "metadata": {
  "kernelspec": {
   "display_name": "Python [conda env:base] *",
   "language": "python",
   "name": "conda-base-py"
  },
  "language_info": {
   "codemirror_mode": {
    "name": "ipython",
    "version": 3
   },
   "file_extension": ".py",
   "mimetype": "text/x-python",
   "name": "python",
   "nbconvert_exporter": "python",
   "pygments_lexer": "ipython3",
   "version": "3.12.7"
  }
 },
 "nbformat": 4,
 "nbformat_minor": 5
}
